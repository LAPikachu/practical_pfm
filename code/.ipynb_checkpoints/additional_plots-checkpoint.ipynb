{
 "cells": [
  {
   "cell_type": "code",
   "execution_count": 3,
   "id": "4ae2f70e-2bd8-4f91-869c-f7c7e6a46e89",
   "metadata": {},
   "outputs": [
    {
     "name": "stdout",
     "output_type": "stream",
     "text": [
      "Using matplotlib backend: <object object at 0x000002B00D274340>\n"
     ]
    }
   ],
   "source": [
    "import matplotlib.pyplot as plt\n",
    "import numpy as np\n",
    "%matplotlib"
   ]
  },
  {
   "cell_type": "markdown",
   "id": "aa778adb-b4c1-45cb-acf8-582e5a160b0d",
   "metadata": {},
   "source": [
    "Bulk Free Energy Density   \n",
    "c can either be c or \\$ \\phi \\$\n",
    "\\begin{equation}\n",
    "f_{bulk} = f_0 c^{2} (1-c)^{2}\n",
    "\\end{equation}"
   ]
  },
  {
   "cell_type": "code",
   "execution_count": 4,
   "id": "03557ad6-b6da-4ee9-8a19-5bd2404a58fe",
   "metadata": {},
   "outputs": [],
   "source": [
    "def calc_f_bulk(c : float, c1 = 0, c2 =1, f_0=1.) -> float:\n",
    "    return f_0 * (c1 - c)**2 *(c2-c)**2"
   ]
  },
  {
   "cell_type": "code",
   "execution_count": 5,
   "id": "17144e28-6c81-4e8d-b0b3-b94a58fe946f",
   "metadata": {},
   "outputs": [
    {
     "data": {
      "text/plain": [
       "[<matplotlib.lines.Line2D at 0x2b00fde3e50>]"
      ]
     },
     "execution_count": 5,
     "metadata": {},
     "output_type": "execute_result"
    }
   ],
   "source": [
    "c = np.linspace(-0.2,1.2,100)\n",
    "f_bulk = [calc_f_bulk(c_i, f_0=0.1) for c_i in c]\n",
    "fig, ax = plt.subplots()\n",
    "ax.plot(c, f_bulk, 'pink')\n",
    "plt.show()"
   ]
  },
  {
   "cell_type": "code",
   "execution_count": null,
   "id": "70dd5616-2d4b-4545-a070-45c32e0008a1",
   "metadata": {},
   "outputs": [],
   "source": []
  }
 ],
 "metadata": {
  "kernelspec": {
   "display_name": "Python 3 (ipykernel)",
   "language": "python",
   "name": "python3"
  },
  "language_info": {
   "codemirror_mode": {
    "name": "ipython",
    "version": 3
   },
   "file_extension": ".py",
   "mimetype": "text/x-python",
   "name": "python",
   "nbconvert_exporter": "python",
   "pygments_lexer": "ipython3",
   "version": "3.11.7"
  }
 },
 "nbformat": 4,
 "nbformat_minor": 5
}
